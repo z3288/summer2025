{
 "cells": [
  {
   "cell_type": "markdown",
   "id": "405a9cd1-9d93-436a-ada3-d60c5cc62ad8",
   "metadata": {},
   "source": [
    "# **This file is to run code to produce standardized dataframe for the Summer 2025 SULI appointment**\n",
    "#### *Coded by Brandon Swanson<br>Mentored by Bhupendra Raut*"
   ]
  },
  {
   "cell_type": "code",
   "execution_count": 5,
   "id": "bd6536e2-9c40-444c-889f-63684363955d",
   "metadata": {},
   "outputs": [
    {
     "name": "stdout",
     "output_type": "stream",
     "text": [
      "['pm2.5', 'pm1.0', 'pm10.0', 'co', 'no', 'o3', 'no2', 'temperature', 'dewpoint', 'u_wind', 'v_wind'] [[28.35       24.05       35.45       ...  7.99589663 -1.60723776\n",
      "  -1.67066588]\n",
      " [22.73333333 19.31666667 28.15       ...  6.39614652 -1.80830649\n",
      "  -1.94435703]\n",
      " [23.26666667 19.96666667 28.41666667 ...  6.45669996 -2.15663646\n",
      "  -1.12232678]\n",
      " ...\n",
      " [ 1.5         0.6         2.88       ... 10.7702773  -4.03725812\n",
      "  -0.14523331]\n",
      " [ 1.56        0.56666667  2.82666667 ... 11.03728948 -3.53803628\n",
      "  -1.1985016 ]\n",
      " [ 1.65333333  0.61333333  3.24       ... 11.2893502  -3.25111158\n",
      "  -0.33984911]]\n"
     ]
    }
   ],
   "source": [
    "from sklearn.cluster import KMeans\n",
    "import numpy as np\n",
    "import xarray as xr\n",
    "import matplotlib.pyplot as plt\n",
    "from itertools import combinations\n",
    "\n",
    "def normalize(variables, data):\n",
    "    print(variables, data)\n",
    "\n",
    "def main():\n",
    "    # Load dataset\n",
    "    file = xr.open_dataset('/home/bswanson/Desktop/Data/crocus_neiu_a1_and_filtered_30min.nc', engine='netcdf4')\n",
    "    \n",
    "    # Extract variables and convert to numpy arrays\n",
    "    variables = ['pm2.5', 'pm1.0','pm10.0', 'co', 'no', 'o3', 'no2', 'temperature', 'dewpoint', 'u_wind', 'v_wind']\n",
    "    data_arrays = [file[var].to_numpy() for var in variables]\n",
    "    \n",
    "    # Mask NaN values\n",
    "    mask = np.all([~np.isnan(arr) for arr in data_arrays], axis=0)\n",
    "    cleaned_data = np.column_stack([arr[mask] for arr in data_arrays])\n",
    "\n",
    "    normalize(variables, cleaned_data)\n",
    "\n",
    "if __name__ == '__main__':\n",
    "    main()"
   ]
  },
  {
   "cell_type": "code",
   "execution_count": null,
   "id": "717e8291-ab72-4957-a753-00359184ee89",
   "metadata": {},
   "outputs": [],
   "source": []
  }
 ],
 "metadata": {
  "kernelspec": {
   "display_name": "Python 3 (ipykernel)",
   "language": "python",
   "name": "python3"
  },
  "language_info": {
   "codemirror_mode": {
    "name": "ipython",
    "version": 3
   },
   "file_extension": ".py",
   "mimetype": "text/x-python",
   "name": "python",
   "nbconvert_exporter": "python",
   "pygments_lexer": "ipython3",
   "version": "3.13.3"
  }
 },
 "nbformat": 4,
 "nbformat_minor": 5
}
