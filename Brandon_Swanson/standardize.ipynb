{
 "cells": [
  {
   "cell_type": "markdown",
   "id": "405a9cd1-9d93-436a-ada3-d60c5cc62ad8",
   "metadata": {},
   "source": [
    "# **This file is to run code to produce standardized dataframe for the Summer 2025 SULI appointment**\n",
    "#### *Coded by Brandon Swanson<br>Mentored by Bhupendra Raut*"
   ]
  },
  {
   "cell_type": "code",
   "execution_count": null,
   "id": "bd6536e2-9c40-444c-889f-63684363955d",
   "metadata": {},
   "outputs": [],
   "source": []
  }
 ],
 "metadata": {
  "kernelspec": {
   "display_name": "Python 3 (ipykernel)",
   "language": "python",
   "name": "python3"
  },
  "language_info": {
   "codemirror_mode": {
    "name": "ipython",
    "version": 3
   },
   "file_extension": ".py",
   "mimetype": "text/x-python",
   "name": "python",
   "nbconvert_exporter": "python",
   "pygments_lexer": "ipython3",
   "version": "3.13.3"
  }
 },
 "nbformat": 4,
 "nbformat_minor": 5
}
