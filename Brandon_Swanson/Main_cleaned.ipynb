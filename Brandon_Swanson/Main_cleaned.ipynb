{
 "cells": [
  {
   "cell_type": "markdown",
   "id": "e0e5ed26-43f5-49ed-b739-d86062ea9d7a",
   "metadata": {},
   "source": [
    "# **This file is to run code to produce the netCDF dataset for the Summer 2025 SULI appointment**\n",
    "#### *This file is a cleaned and organized version of the file<br>Coded by Brandon Swanson<br>Mentored by Bhupendra Raut*"
   ]
  },
  {
   "cell_type": "code",
   "execution_count": null,
   "id": "bf2c6f72-8ece-4cfb-902a-71790506ffc0",
   "metadata": {},
   "outputs": [],
   "source": []
  }
 ],
 "metadata": {
  "kernelspec": {
   "display_name": "Python 3 (ipykernel)",
   "language": "python",
   "name": "python3"
  },
  "language_info": {
   "codemirror_mode": {
    "name": "ipython",
    "version": 3
   },
   "file_extension": ".py",
   "mimetype": "text/x-python",
   "name": "python",
   "nbconvert_exporter": "python",
   "pygments_lexer": "ipython3",
   "version": "3.13.4"
  }
 },
 "nbformat": 4,
 "nbformat_minor": 5
}
