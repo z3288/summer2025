{
 "cells": [
  {
   "cell_type": "markdown",
   "id": "722c6dda-390f-41b7-9c5b-1dd63d68900b",
   "metadata": {},
   "source": [
    "# **This file is to run code to produce plots for the Summer 2025 SULI appointment**\n",
    "#### *Coded by Brandon Swanson<br>Mentored by Bhupendra Raut*"
   ]
  },
  {
   "cell_type": "code",
   "execution_count": null,
   "id": "c51d5bd1-215e-4353-8cfe-dc8bd04f2706",
   "metadata": {},
   "outputs": [],
   "source": []
  }
 ],
 "metadata": {
  "kernelspec": {
   "display_name": "Python 3 (ipykernel)",
   "language": "python",
   "name": "python3"
  },
  "language_info": {
   "codemirror_mode": {
    "name": "ipython",
    "version": 3
   },
   "file_extension": ".py",
   "mimetype": "text/x-python",
   "name": "python",
   "nbconvert_exporter": "python",
   "pygments_lexer": "ipython3",
   "version": "3.13.4"
  }
 },
 "nbformat": 4,
 "nbformat_minor": 5
}
